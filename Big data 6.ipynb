{
 "cells": [
  {
   "cell_type": "markdown",
   "id": "f89f7684",
   "metadata": {},
   "source": [
    "# Hands-On Pertemuan 6: Data Processing dengan Apache Spark"
   ]
  },
  {
   "cell_type": "markdown",
   "id": "e30ce9d1",
   "metadata": {},
   "source": [
    "## Tujuan:\n",
    "- Memahami dan mempraktikkan data processing menggunakan Apache Spark.\n",
    "- Menggunakan Spark untuk operasi data yang efisien pada dataset besar.\n",
    "- Menerapkan teknik canggih dalam Spark untuk mengatasi kasus penggunaan nyata."
   ]
  },
  {
   "cell_type": "markdown",
   "id": "cd5c2f90",
   "metadata": {},
   "source": [
    "### 1. Pengenalan Spark DataFrames\n",
    "Spark DataFrame menyediakan struktur data yang optimal dengan operasi yang dioptimalkan untuk pemrosesan data besar, yang sangat mirip dengan DataFrame di Pandas atau di RDBMS.\n",
    "\n",
    "- **Tugas 1**: Buat DataFrame sederhana di Spark dan eksplorasi beberapa fungsi dasar yang tersedia."
   ]
  },
  {
   "cell_type": "code",
   "execution_count": 4,
   "id": "8e5ac8e0",
   "metadata": {},
   "outputs": [
    {
     "name": "stdout",
     "output_type": "stream",
     "text": [
      "Collecting pyspark==3.4.1\n",
      "  Using cached pyspark-3.4.1-py2.py3-none-any.whl\n",
      "Collecting py4j==0.10.9.7 (from pyspark==3.4.1)\n",
      "  Obtaining dependency information for py4j==0.10.9.7 from https://files.pythonhosted.org/packages/10/30/a58b32568f1623aaad7db22aa9eafc4c6c194b429ff35bdc55ca2726da47/py4j-0.10.9.7-py2.py3-none-any.whl.metadata\n",
      "  Using cached py4j-0.10.9.7-py2.py3-none-any.whl.metadata (1.5 kB)\n",
      "Using cached py4j-0.10.9.7-py2.py3-none-any.whl (200 kB)\n",
      "Installing collected packages: py4j, pyspark\n",
      "Successfully installed py4j-0.10.9.7 pyspark-3.4.1\n",
      "Note: you may need to restart the kernel to use updated packages.\n"
     ]
    },
    {
     "name": "stderr",
     "output_type": "stream",
     "text": [
      "\n",
      "[notice] A new release of pip is available: 23.2.1 -> 24.2\n",
      "[notice] To update, run: python.exe -m pip install --upgrade pip\n"
     ]
    }
   ],
   "source": [
    "pip install pyspark==3.4.1"
   ]
  },
  {
   "cell_type": "code",
   "execution_count": 1,
   "id": "96732d12",
   "metadata": {},
   "outputs": [
    {
     "name": "stdout",
     "output_type": "stream",
     "text": [
      "Collecting pandas\n",
      "  Obtaining dependency information for pandas from https://files.pythonhosted.org/packages/ed/8c/87ddf1fcb55d11f9f847e3c69bb1c6f8e46e2f40ab1a2d2abadb2401b007/pandas-2.2.3-cp311-cp311-win_amd64.whl.metadata\n",
      "  Downloading pandas-2.2.3-cp311-cp311-win_amd64.whl.metadata (19 kB)\n",
      "Collecting numpy>=1.23.2 (from pandas)\n",
      "  Obtaining dependency information for numpy>=1.23.2 from https://files.pythonhosted.org/packages/94/7a/4c00332a3ca79702bbc86228afd0e84e6f91b47222ec8cdf00677dd16481/numpy-2.1.1-cp311-cp311-win_amd64.whl.metadata\n",
      "  Downloading numpy-2.1.1-cp311-cp311-win_amd64.whl.metadata (59 kB)\n",
      "     ---------------------------------------- 0.0/59.7 kB ? eta -:--:--\n",
      "     -------------------- ------------------- 30.7/59.7 kB 1.4 MB/s eta 0:00:01\n",
      "     ---------------------------------------- 59.7/59.7 kB 1.1 MB/s eta 0:00:00\n",
      "Requirement already satisfied: python-dateutil>=2.8.2 in c:\\users\\lenovo\\appdata\\roaming\\python\\python311\\site-packages (from pandas) (2.9.0.post0)\n",
      "Collecting pytz>=2020.1 (from pandas)\n",
      "  Obtaining dependency information for pytz>=2020.1 from https://files.pythonhosted.org/packages/11/c3/005fcca25ce078d2cc29fd559379817424e94885510568bc1bc53d7d5846/pytz-2024.2-py2.py3-none-any.whl.metadata\n",
      "  Downloading pytz-2024.2-py2.py3-none-any.whl.metadata (22 kB)\n",
      "Collecting tzdata>=2022.7 (from pandas)\n",
      "  Obtaining dependency information for tzdata>=2022.7 from https://files.pythonhosted.org/packages/a6/ab/7e5f53c3b9d14972843a647d8d7a853969a58aecc7559cb3267302c94774/tzdata-2024.2-py2.py3-none-any.whl.metadata\n",
      "  Downloading tzdata-2024.2-py2.py3-none-any.whl.metadata (1.4 kB)\n",
      "Requirement already satisfied: six>=1.5 in c:\\users\\lenovo\\appdata\\roaming\\python\\python311\\site-packages (from python-dateutil>=2.8.2->pandas) (1.16.0)\n",
      "Downloading pandas-2.2.3-cp311-cp311-win_amd64.whl (11.6 MB)\n",
      "   ---------------------------------------- 0.0/11.6 MB ? eta -:--:--\n",
      "   ---------------------------------------- 0.1/11.6 MB 5.5 MB/s eta 0:00:03\n",
      "   ---------------------------------------- 0.1/11.6 MB 5.5 MB/s eta 0:00:03\n",
      "   ---------------------------------------- 0.1/11.6 MB 5.5 MB/s eta 0:00:03\n",
      "    --------------------------------------- 0.2/11.6 MB 1.1 MB/s eta 0:00:11\n",
      "    --------------------------------------- 0.2/11.6 MB 845.5 kB/s eta 0:00:14\n",
      "    --------------------------------------- 0.2/11.6 MB 888.8 kB/s eta 0:00:13\n",
      "   - -------------------------------------- 0.4/11.6 MB 1.2 MB/s eta 0:00:10\n",
      "   - -------------------------------------- 0.5/11.6 MB 1.4 MB/s eta 0:00:09\n",
      "   -- ------------------------------------- 0.6/11.6 MB 1.5 MB/s eta 0:00:08\n",
      "   -- ------------------------------------- 0.7/11.6 MB 1.6 MB/s eta 0:00:07\n",
      "   -- ------------------------------------- 0.8/11.6 MB 1.7 MB/s eta 0:00:07\n",
      "   --- ------------------------------------ 0.9/11.6 MB 1.7 MB/s eta 0:00:07\n",
      "   --- ------------------------------------ 1.0/11.6 MB 1.8 MB/s eta 0:00:07\n",
      "   --- ------------------------------------ 1.1/11.6 MB 1.9 MB/s eta 0:00:06\n",
      "   ---- ----------------------------------- 1.2/11.6 MB 1.8 MB/s eta 0:00:06\n",
      "   ---- ----------------------------------- 1.3/11.6 MB 1.9 MB/s eta 0:00:06\n",
      "   ---- ----------------------------------- 1.4/11.6 MB 1.9 MB/s eta 0:00:06\n",
      "   ----- ---------------------------------- 1.5/11.6 MB 1.9 MB/s eta 0:00:06\n",
      "   ----- ---------------------------------- 1.6/11.6 MB 2.0 MB/s eta 0:00:06\n",
      "   ----- ---------------------------------- 1.7/11.6 MB 2.0 MB/s eta 0:00:06\n",
      "   ------ --------------------------------- 1.9/11.6 MB 2.0 MB/s eta 0:00:05\n",
      "   ------ --------------------------------- 2.0/11.6 MB 2.1 MB/s eta 0:00:05\n",
      "   ------- -------------------------------- 2.1/11.6 MB 2.1 MB/s eta 0:00:05\n",
      "   ------- -------------------------------- 2.1/11.6 MB 2.0 MB/s eta 0:00:05\n",
      "   ------- -------------------------------- 2.2/11.6 MB 2.0 MB/s eta 0:00:05\n",
      "   -------- ------------------------------- 2.3/11.6 MB 2.1 MB/s eta 0:00:05\n",
      "   -------- ------------------------------- 2.5/11.6 MB 2.1 MB/s eta 0:00:05\n",
      "   -------- ------------------------------- 2.6/11.6 MB 2.1 MB/s eta 0:00:05\n",
      "   --------- ------------------------------ 2.7/11.6 MB 2.1 MB/s eta 0:00:05\n",
      "   --------- ------------------------------ 2.8/11.6 MB 2.1 MB/s eta 0:00:05\n",
      "   --------- ------------------------------ 2.9/11.6 MB 2.1 MB/s eta 0:00:05\n",
      "   ---------- ----------------------------- 2.9/11.6 MB 2.1 MB/s eta 0:00:05\n",
      "   ---------- ----------------------------- 3.0/11.6 MB 2.1 MB/s eta 0:00:05\n",
      "   ---------- ----------------------------- 3.1/11.6 MB 2.1 MB/s eta 0:00:05\n",
      "   ----------- ---------------------------- 3.3/11.6 MB 2.1 MB/s eta 0:00:04\n",
      "   ----------- ---------------------------- 3.4/11.6 MB 2.1 MB/s eta 0:00:04\n",
      "   ----------- ---------------------------- 3.4/11.6 MB 2.1 MB/s eta 0:00:04\n",
      "   ------------ --------------------------- 3.6/11.6 MB 2.1 MB/s eta 0:00:04\n",
      "   ------------ --------------------------- 3.7/11.6 MB 2.1 MB/s eta 0:00:04\n",
      "   ------------- -------------------------- 3.8/11.6 MB 2.2 MB/s eta 0:00:04\n",
      "   ------------- -------------------------- 3.9/11.6 MB 2.1 MB/s eta 0:00:04\n",
      "   ------------- -------------------------- 4.0/11.6 MB 2.2 MB/s eta 0:00:04\n",
      "   ------------- -------------------------- 4.1/11.6 MB 2.2 MB/s eta 0:00:04\n",
      "   -------------- ------------------------- 4.2/11.6 MB 2.2 MB/s eta 0:00:04\n",
      "   -------------- ------------------------- 4.3/11.6 MB 2.2 MB/s eta 0:00:04\n",
      "   --------------- ------------------------ 4.4/11.6 MB 2.2 MB/s eta 0:00:04\n",
      "   --------------- ------------------------ 4.5/11.6 MB 2.2 MB/s eta 0:00:04\n",
      "   --------------- ------------------------ 4.5/11.6 MB 2.2 MB/s eta 0:00:04\n",
      "   --------------- ------------------------ 4.6/11.6 MB 2.1 MB/s eta 0:00:04\n",
      "   --------------- ------------------------ 4.6/11.6 MB 2.1 MB/s eta 0:00:04\n",
      "   ---------------- ----------------------- 4.7/11.6 MB 2.1 MB/s eta 0:00:04\n",
      "   ---------------- ----------------------- 4.8/11.6 MB 2.1 MB/s eta 0:00:04\n",
      "   ----------------- ---------------------- 5.0/11.6 MB 2.1 MB/s eta 0:00:04\n",
      "   ----------------- ---------------------- 5.2/11.6 MB 2.2 MB/s eta 0:00:03\n",
      "   ------------------ --------------------- 5.3/11.6 MB 2.2 MB/s eta 0:00:03\n",
      "   ------------------ --------------------- 5.4/11.6 MB 2.2 MB/s eta 0:00:03\n",
      "   ------------------- -------------------- 5.6/11.6 MB 2.2 MB/s eta 0:00:03\n",
      "   ------------------- -------------------- 5.7/11.6 MB 2.2 MB/s eta 0:00:03\n",
      "   -------------------- ------------------- 5.9/11.6 MB 2.3 MB/s eta 0:00:03\n",
      "   -------------------- ------------------- 6.0/11.6 MB 2.3 MB/s eta 0:00:03\n",
      "   --------------------- ------------------ 6.2/11.6 MB 2.3 MB/s eta 0:00:03\n",
      "   --------------------- ------------------ 6.3/11.6 MB 2.3 MB/s eta 0:00:03\n",
      "   ---------------------- ----------------- 6.4/11.6 MB 2.3 MB/s eta 0:00:03\n",
      "   ---------------------- ----------------- 6.5/11.6 MB 2.3 MB/s eta 0:00:03\n",
      "   ---------------------- ----------------- 6.6/11.6 MB 2.3 MB/s eta 0:00:03\n",
      "   ----------------------- ---------------- 6.7/11.6 MB 2.4 MB/s eta 0:00:03\n",
      "   ----------------------- ---------------- 6.9/11.6 MB 2.4 MB/s eta 0:00:02\n",
      "   ------------------------ --------------- 7.1/11.6 MB 2.4 MB/s eta 0:00:02\n",
      "   ------------------------ --------------- 7.2/11.6 MB 2.4 MB/s eta 0:00:02\n",
      "   ------------------------- -------------- 7.3/11.6 MB 2.4 MB/s eta 0:00:02\n",
      "   ------------------------- -------------- 7.4/11.6 MB 2.4 MB/s eta 0:00:02\n",
      "   ------------------------- -------------- 7.5/11.6 MB 2.4 MB/s eta 0:00:02\n",
      "   -------------------------- ------------- 7.7/11.6 MB 2.4 MB/s eta 0:00:02\n",
      "   -------------------------- ------------- 7.7/11.6 MB 2.4 MB/s eta 0:00:02\n",
      "   --------------------------- ------------ 7.9/11.6 MB 2.4 MB/s eta 0:00:02\n",
      "   --------------------------- ------------ 8.0/11.6 MB 2.4 MB/s eta 0:00:02\n",
      "   ---------------------------- ----------- 8.2/11.6 MB 2.4 MB/s eta 0:00:02\n",
      "   ---------------------------- ----------- 8.3/11.6 MB 2.4 MB/s eta 0:00:02\n",
      "   ----------------------------- ---------- 8.5/11.6 MB 2.4 MB/s eta 0:00:02\n",
      "   ----------------------------- ---------- 8.6/11.6 MB 2.5 MB/s eta 0:00:02\n",
      "   ------------------------------ --------- 8.7/11.6 MB 2.5 MB/s eta 0:00:02\n",
      "   ------------------------------ --------- 8.9/11.6 MB 2.5 MB/s eta 0:00:02\n",
      "   ------------------------------- -------- 9.0/11.6 MB 2.5 MB/s eta 0:00:02\n",
      "   ------------------------------- -------- 9.2/11.6 MB 2.5 MB/s eta 0:00:01\n",
      "   ------------------------------- -------- 9.2/11.6 MB 2.5 MB/s eta 0:00:01\n",
      "   -------------------------------- ------- 9.4/11.6 MB 2.5 MB/s eta 0:00:01\n",
      "   -------------------------------- ------- 9.5/11.6 MB 2.5 MB/s eta 0:00:01\n",
      "   --------------------------------- ------ 9.6/11.6 MB 2.5 MB/s eta 0:00:01\n",
      "   --------------------------------- ------ 9.8/11.6 MB 2.5 MB/s eta 0:00:01\n",
      "   ---------------------------------- ----- 9.9/11.6 MB 2.5 MB/s eta 0:00:01\n",
      "   ---------------------------------- ----- 10.0/11.6 MB 2.5 MB/s eta 0:00:01\n",
      "   ---------------------------------- ----- 10.1/11.6 MB 2.5 MB/s eta 0:00:01\n",
      "   ----------------------------------- ---- 10.2/11.6 MB 2.5 MB/s eta 0:00:01\n",
      "   ----------------------------------- ---- 10.4/11.6 MB 2.6 MB/s eta 0:00:01\n",
      "   ------------------------------------ --- 10.5/11.6 MB 2.6 MB/s eta 0:00:01\n",
      "   ------------------------------------ --- 10.7/11.6 MB 2.6 MB/s eta 0:00:01\n",
      "   ------------------------------------- -- 10.8/11.6 MB 2.6 MB/s eta 0:00:01\n",
      "   ------------------------------------- -- 10.9/11.6 MB 2.6 MB/s eta 0:00:01\n",
      "   -------------------------------------- - 11.1/11.6 MB 2.7 MB/s eta 0:00:01\n",
      "   -------------------------------------- - 11.3/11.6 MB 2.7 MB/s eta 0:00:01\n",
      "   ---------------------------------------  11.3/11.6 MB 2.7 MB/s eta 0:00:01\n",
      "   ---------------------------------------  11.5/11.6 MB 2.7 MB/s eta 0:00:01\n",
      "   ---------------------------------------  11.6/11.6 MB 2.7 MB/s eta 0:00:01\n",
      "   ---------------------------------------  11.6/11.6 MB 2.7 MB/s eta 0:00:01\n",
      "   ---------------------------------------- 11.6/11.6 MB 2.6 MB/s eta 0:00:00\n",
      "Downloading numpy-2.1.1-cp311-cp311-win_amd64.whl (12.9 MB)\n",
      "   ---------------------------------------- 0.0/12.9 MB ? eta -:--:--\n",
      "   ---------------------------------------- 0.1/12.9 MB ? eta -:--:--\n",
      "    --------------------------------------- 0.3/12.9 MB 4.3 MB/s eta 0:00:03\n",
      "   - -------------------------------------- 0.5/12.9 MB 4.0 MB/s eta 0:00:04\n",
      "   - -------------------------------------- 0.6/12.9 MB 3.6 MB/s eta 0:00:04\n",
      "   -- ------------------------------------- 0.8/12.9 MB 4.1 MB/s eta 0:00:03\n",
      "   -- ------------------------------------- 0.9/12.9 MB 3.9 MB/s eta 0:00:04\n",
      "   --- ------------------------------------ 1.1/12.9 MB 4.0 MB/s eta 0:00:03\n",
      "   --- ------------------------------------ 1.3/12.9 MB 4.0 MB/s eta 0:00:03\n",
      "   ---- ----------------------------------- 1.4/12.9 MB 3.8 MB/s eta 0:00:04\n",
      "   ----- ---------------------------------- 1.6/12.9 MB 3.9 MB/s eta 0:00:03\n",
      "   ----- ---------------------------------- 1.8/12.9 MB 4.0 MB/s eta 0:00:03\n",
      "   ------ --------------------------------- 2.0/12.9 MB 3.9 MB/s eta 0:00:03\n",
      "   ------ --------------------------------- 2.2/12.9 MB 3.9 MB/s eta 0:00:03\n",
      "   ------- -------------------------------- 2.3/12.9 MB 3.9 MB/s eta 0:00:03\n",
      "   ------- -------------------------------- 2.4/12.9 MB 3.9 MB/s eta 0:00:03\n",
      "   ------- -------------------------------- 2.5/12.9 MB 3.7 MB/s eta 0:00:03\n",
      "   -------- ------------------------------- 2.6/12.9 MB 3.7 MB/s eta 0:00:03\n",
      "   -------- ------------------------------- 2.6/12.9 MB 3.7 MB/s eta 0:00:03\n",
      "   -------- ------------------------------- 2.6/12.9 MB 3.7 MB/s eta 0:00:03\n",
      "   -------- ------------------------------- 2.6/12.9 MB 3.7 MB/s eta 0:00:03\n",
      "   -------- ------------------------------- 2.7/12.9 MB 3.0 MB/s eta 0:00:04\n",
      "   -------- ------------------------------- 2.7/12.9 MB 3.0 MB/s eta 0:00:04\n",
      "   -------- ------------------------------- 2.7/12.9 MB 3.0 MB/s eta 0:00:04\n",
      "   -------- ------------------------------- 2.7/12.9 MB 3.0 MB/s eta 0:00:04\n",
      "   -------- ------------------------------- 2.7/12.9 MB 3.0 MB/s eta 0:00:04\n",
      "   -------- ------------------------------- 2.7/12.9 MB 2.4 MB/s eta 0:00:05\n",
      "   -------- ------------------------------- 2.7/12.9 MB 2.4 MB/s eta 0:00:05\n",
      "   -------- ------------------------------- 2.7/12.9 MB 2.4 MB/s eta 0:00:05\n",
      "   -------- ------------------------------- 2.7/12.9 MB 2.4 MB/s eta 0:00:05\n",
      "   -------- ------------------------------- 2.7/12.9 MB 2.4 MB/s eta 0:00:05\n",
      "   -------- ------------------------------- 2.8/12.9 MB 2.0 MB/s eta 0:00:05\n",
      "   -------- ------------------------------- 2.8/12.9 MB 2.0 MB/s eta 0:00:06\n",
      "   -------- ------------------------------- 2.8/12.9 MB 1.9 MB/s eta 0:00:06\n",
      "   -------- ------------------------------- 2.8/12.9 MB 1.9 MB/s eta 0:00:06\n",
      "   -------- ------------------------------- 2.9/12.9 MB 1.9 MB/s eta 0:00:06\n",
      "   --------- ------------------------------ 2.9/12.9 MB 1.8 MB/s eta 0:00:06\n",
      "   --------- ------------------------------ 3.0/12.9 MB 1.8 MB/s eta 0:00:06\n",
      "   --------- ------------------------------ 3.0/12.9 MB 1.8 MB/s eta 0:00:06\n",
      "   --------- ------------------------------ 3.1/12.9 MB 1.8 MB/s eta 0:00:06\n",
      "   --------- ------------------------------ 3.1/12.9 MB 1.8 MB/s eta 0:00:06\n",
      "   --------- ------------------------------ 3.2/12.9 MB 1.8 MB/s eta 0:00:06\n",
      "   ---------- ----------------------------- 3.2/12.9 MB 1.7 MB/s eta 0:00:06\n",
      "   ---------- ----------------------------- 3.3/12.9 MB 1.7 MB/s eta 0:00:06\n",
      "   ---------- ----------------------------- 3.3/12.9 MB 1.7 MB/s eta 0:00:06\n",
      "   ---------- ----------------------------- 3.3/12.9 MB 1.7 MB/s eta 0:00:06\n",
      "   ---------- ----------------------------- 3.4/12.9 MB 1.7 MB/s eta 0:00:06\n",
      "   ---------- ----------------------------- 3.4/12.9 MB 1.7 MB/s eta 0:00:06\n",
      "   ---------- ----------------------------- 3.5/12.9 MB 1.6 MB/s eta 0:00:06\n",
      "   ----------- ---------------------------- 3.6/12.9 MB 1.6 MB/s eta 0:00:06\n",
      "   ----------- ---------------------------- 3.6/12.9 MB 1.6 MB/s eta 0:00:06\n",
      "   ----------- ---------------------------- 3.6/12.9 MB 1.6 MB/s eta 0:00:06\n",
      "   ----------- ---------------------------- 3.7/12.9 MB 1.6 MB/s eta 0:00:06\n",
      "   ----------- ---------------------------- 3.8/12.9 MB 1.6 MB/s eta 0:00:06\n",
      "   ----------- ---------------------------- 3.8/12.9 MB 1.6 MB/s eta 0:00:06\n",
      "   ------------ --------------------------- 3.9/12.9 MB 1.6 MB/s eta 0:00:06\n",
      "   ------------ --------------------------- 4.0/12.9 MB 1.6 MB/s eta 0:00:06\n",
      "   ------------ --------------------------- 4.0/12.9 MB 1.6 MB/s eta 0:00:06\n",
      "   ------------ --------------------------- 4.1/12.9 MB 1.6 MB/s eta 0:00:06\n",
      "   ------------ --------------------------- 4.2/12.9 MB 1.6 MB/s eta 0:00:06\n",
      "   ------------- -------------------------- 4.2/12.9 MB 1.6 MB/s eta 0:00:06\n",
      "   ------------- -------------------------- 4.3/12.9 MB 1.6 MB/s eta 0:00:06\n",
      "   ------------- -------------------------- 4.4/12.9 MB 1.6 MB/s eta 0:00:06\n",
      "   ------------- -------------------------- 4.4/12.9 MB 1.6 MB/s eta 0:00:06\n",
      "   ------------- -------------------------- 4.4/12.9 MB 1.6 MB/s eta 0:00:06\n",
      "   ------------- -------------------------- 4.5/12.9 MB 1.6 MB/s eta 0:00:06\n",
      "   -------------- ------------------------- 4.5/12.9 MB 1.6 MB/s eta 0:00:06\n",
      "   -------------- ------------------------- 4.6/12.9 MB 1.6 MB/s eta 0:00:06\n",
      "   -------------- ------------------------- 4.7/12.9 MB 1.6 MB/s eta 0:00:06\n",
      "   -------------- ------------------------- 4.8/12.9 MB 1.6 MB/s eta 0:00:06\n",
      "   --------------- ------------------------ 4.9/12.9 MB 1.6 MB/s eta 0:00:06\n",
      "   --------------- ------------------------ 5.0/12.9 MB 1.6 MB/s eta 0:00:05\n",
      "   --------------- ------------------------ 5.1/12.9 MB 1.6 MB/s eta 0:00:05\n",
      "   --------------- ------------------------ 5.1/12.9 MB 1.6 MB/s eta 0:00:05\n",
      "   ---------------- ----------------------- 5.2/12.9 MB 1.6 MB/s eta 0:00:05\n",
      "   ---------------- ----------------------- 5.3/12.9 MB 1.6 MB/s eta 0:00:05\n",
      "   ---------------- ----------------------- 5.4/12.9 MB 1.6 MB/s eta 0:00:05\n",
      "   ---------------- ----------------------- 5.4/12.9 MB 1.6 MB/s eta 0:00:05\n",
      "   ----------------- ---------------------- 5.6/12.9 MB 1.6 MB/s eta 0:00:05\n",
      "   ----------------- ---------------------- 5.7/12.9 MB 1.6 MB/s eta 0:00:05\n",
      "   ----------------- ---------------------- 5.7/12.9 MB 1.6 MB/s eta 0:00:05\n",
      "   ------------------ --------------------- 5.8/12.9 MB 1.6 MB/s eta 0:00:05\n",
      "   ------------------ --------------------- 5.9/12.9 MB 1.6 MB/s eta 0:00:05\n",
      "   ------------------ --------------------- 5.9/12.9 MB 1.6 MB/s eta 0:00:05\n",
      "   ------------------ --------------------- 6.1/12.9 MB 1.6 MB/s eta 0:00:05\n",
      "   ------------------ --------------------- 6.1/12.9 MB 1.6 MB/s eta 0:00:05\n",
      "   ------------------- -------------------- 6.2/12.9 MB 1.6 MB/s eta 0:00:05\n",
      "   ------------------- -------------------- 6.3/12.9 MB 1.6 MB/s eta 0:00:04\n",
      "   ------------------- -------------------- 6.4/12.9 MB 1.7 MB/s eta 0:00:04\n",
      "   -------------------- ------------------- 6.5/12.9 MB 1.7 MB/s eta 0:00:04\n",
      "   -------------------- ------------------- 6.6/12.9 MB 1.7 MB/s eta 0:00:04\n",
      "   -------------------- ------------------- 6.7/12.9 MB 1.7 MB/s eta 0:00:04\n",
      "   --------------------- ------------------ 6.8/12.9 MB 1.7 MB/s eta 0:00:04\n",
      "   --------------------- ------------------ 6.9/12.9 MB 1.7 MB/s eta 0:00:04\n",
      "   --------------------- ------------------ 7.0/12.9 MB 1.7 MB/s eta 0:00:04\n",
      "   ---------------------- ----------------- 7.2/12.9 MB 1.7 MB/s eta 0:00:04\n",
      "   ---------------------- ----------------- 7.3/12.9 MB 1.7 MB/s eta 0:00:04\n",
      "   ---------------------- ----------------- 7.4/12.9 MB 1.7 MB/s eta 0:00:04\n",
      "   ----------------------- ---------------- 7.5/12.9 MB 1.7 MB/s eta 0:00:04\n",
      "   ----------------------- ---------------- 7.6/12.9 MB 1.7 MB/s eta 0:00:04\n",
      "   ----------------------- ---------------- 7.7/12.9 MB 1.7 MB/s eta 0:00:03\n",
      "   ------------------------ --------------- 7.8/12.9 MB 1.7 MB/s eta 0:00:03\n",
      "   ------------------------ --------------- 7.9/12.9 MB 1.8 MB/s eta 0:00:03\n",
      "   ------------------------- -------------- 8.1/12.9 MB 1.8 MB/s eta 0:00:03\n",
      "   ------------------------- -------------- 8.2/12.9 MB 1.8 MB/s eta 0:00:03\n",
      "   ------------------------- -------------- 8.3/12.9 MB 1.8 MB/s eta 0:00:03\n",
      "   -------------------------- ------------- 8.5/12.9 MB 1.8 MB/s eta 0:00:03\n",
      "   -------------------------- ------------- 8.6/12.9 MB 1.8 MB/s eta 0:00:03\n",
      "   --------------------------- ------------ 8.7/12.9 MB 1.8 MB/s eta 0:00:03\n",
      "   --------------------------- ------------ 8.9/12.9 MB 1.8 MB/s eta 0:00:03\n",
      "   --------------------------- ------------ 9.0/12.9 MB 1.8 MB/s eta 0:00:03\n",
      "   ---------------------------- ----------- 9.1/12.9 MB 1.9 MB/s eta 0:00:03\n",
      "   ---------------------------- ----------- 9.3/12.9 MB 1.9 MB/s eta 0:00:02\n",
      "   ----------------------------- ---------- 9.4/12.9 MB 1.9 MB/s eta 0:00:02\n",
      "   ----------------------------- ---------- 9.5/12.9 MB 1.9 MB/s eta 0:00:02\n",
      "   ------------------------------ --------- 9.7/12.9 MB 1.9 MB/s eta 0:00:02\n",
      "   ------------------------------ --------- 9.8/12.9 MB 1.9 MB/s eta 0:00:02\n",
      "   ------------------------------ --------- 10.0/12.9 MB 1.9 MB/s eta 0:00:02\n",
      "   ------------------------------- -------- 10.0/12.9 MB 1.9 MB/s eta 0:00:02\n",
      "   ------------------------------- -------- 10.2/12.9 MB 1.9 MB/s eta 0:00:02\n",
      "   -------------------------------- ------- 10.3/12.9 MB 1.9 MB/s eta 0:00:02\n",
      "   -------------------------------- ------- 10.5/12.9 MB 1.9 MB/s eta 0:00:02\n",
      "   --------------------------------- ------ 10.6/12.9 MB 1.9 MB/s eta 0:00:02\n",
      "   --------------------------------- ------ 10.8/12.9 MB 1.9 MB/s eta 0:00:02\n",
      "   --------------------------------- ------ 10.9/12.9 MB 1.9 MB/s eta 0:00:02\n",
      "   ---------------------------------- ----- 11.1/12.9 MB 1.9 MB/s eta 0:00:01\n",
      "   ---------------------------------- ----- 11.2/12.9 MB 1.9 MB/s eta 0:00:01\n",
      "   ----------------------------------- ---- 11.4/12.9 MB 1.9 MB/s eta 0:00:01\n",
      "   ----------------------------------- ---- 11.6/12.9 MB 1.9 MB/s eta 0:00:01\n",
      "   ------------------------------------ --- 11.7/12.9 MB 1.9 MB/s eta 0:00:01\n",
      "   ------------------------------------- -- 11.9/12.9 MB 1.9 MB/s eta 0:00:01\n",
      "   ------------------------------------- -- 12.1/12.9 MB 1.9 MB/s eta 0:00:01\n",
      "   ------------------------------------- -- 12.2/12.9 MB 1.9 MB/s eta 0:00:01\n",
      "   -------------------------------------- - 12.4/12.9 MB 1.9 MB/s eta 0:00:01\n",
      "   ---------------------------------------  12.6/12.9 MB 1.9 MB/s eta 0:00:01\n",
      "   ---------------------------------------  12.7/12.9 MB 1.9 MB/s eta 0:00:01\n",
      "   ---------------------------------------  12.9/12.9 MB 2.0 MB/s eta 0:00:01\n",
      "   ---------------------------------------  12.9/12.9 MB 2.0 MB/s eta 0:00:01\n",
      "   ---------------------------------------- 12.9/12.9 MB 2.0 MB/s eta 0:00:00\n",
      "Downloading pytz-2024.2-py2.py3-none-any.whl (508 kB)\n",
      "   ---------------------------------------- 0.0/508.0 kB ? eta -:--:--\n",
      "   -------- ------------------------------- 112.6/508.0 kB 3.3 MB/s eta 0:00:01\n",
      "   -------------------- ------------------- 256.0/508.0 kB 3.2 MB/s eta 0:00:01\n",
      "   ----------------------------------- ---- 450.6/508.0 kB 4.0 MB/s eta 0:00:01\n",
      "   ---------------------------------------- 508.0/508.0 kB 3.5 MB/s eta 0:00:00\n",
      "Downloading tzdata-2024.2-py2.py3-none-any.whl (346 kB)\n",
      "   ---------------------------------------- 0.0/346.6 kB ? eta -:--:--\n",
      "   ------------------------- -------------- 225.3/346.6 kB 4.6 MB/s eta 0:00:01\n",
      "   ---------------------------------------- 346.6/346.6 kB 4.3 MB/s eta 0:00:00\n",
      "Installing collected packages: pytz, tzdata, numpy, pandas\n",
      "Successfully installed numpy-2.1.1 pandas-2.2.3 pytz-2024.2 tzdata-2024.2\n",
      "Note: you may need to restart the kernel to use updated packages.\n"
     ]
    },
    {
     "name": "stderr",
     "output_type": "stream",
     "text": [
      "  WARNING: The scripts f2py.exe and numpy-config.exe are installed in 'c:\\Users\\Lenovo\\AppData\\Local\\Programs\\Python\\Python311\\Scripts' which is not on PATH.\n",
      "  Consider adding this directory to PATH or, if you prefer to suppress this warning, use --no-warn-script-location.\n",
      "\n",
      "[notice] A new release of pip is available: 23.2.1 -> 24.2\n",
      "[notice] To update, run: python.exe -m pip install --upgrade pip\n"
     ]
    }
   ],
   "source": [
    "pip install pandas"
   ]
  },
  {
   "cell_type": "code",
   "execution_count": 2,
   "id": "29615af0",
   "metadata": {},
   "outputs": [
    {
     "name": "stdout",
     "output_type": "stream",
     "text": [
      "Collecting findspark\n",
      "  Obtaining dependency information for findspark from https://files.pythonhosted.org/packages/a4/cb/7d2bb508f4ca00a043fd53e8156c11767799d3f534bf451a0942211d5def/findspark-2.0.1-py2.py3-none-any.whl.metadata\n",
      "  Downloading findspark-2.0.1-py2.py3-none-any.whl.metadata (352 bytes)\n",
      "Downloading findspark-2.0.1-py2.py3-none-any.whl (4.4 kB)\n",
      "Installing collected packages: findspark\n",
      "Successfully installed findspark-2.0.1\n",
      "Note: you may need to restart the kernel to use updated packages.\n"
     ]
    },
    {
     "name": "stderr",
     "output_type": "stream",
     "text": [
      "\n",
      "[notice] A new release of pip is available: 23.2.1 -> 24.2\n",
      "[notice] To update, run: python.exe -m pip install --upgrade pip\n"
     ]
    }
   ],
   "source": [
    " pip install findspark"
   ]
  },
  {
   "cell_type": "code",
   "execution_count": 4,
   "id": "0ba6b99f",
   "metadata": {},
   "outputs": [],
   "source": [
    "import findspark\n",
    "findspark.init()"
   ]
  },
  {
   "cell_type": "code",
   "execution_count": 5,
   "id": "986d01c7",
   "metadata": {},
   "outputs": [
    {
     "name": "stdout",
     "output_type": "stream",
     "text": [
      "+------------+----------+------+\n",
      "|EmployeeName|Department|Salary|\n",
      "+------------+----------+------+\n",
      "|       James|     Sales|  3000|\n",
      "|     Michael|     Sales|  4600|\n",
      "|      Robert|     Sales|  4100|\n",
      "|       Maria|   Finance|  3000|\n",
      "+------------+----------+------+\n",
      "\n"
     ]
    }
   ],
   "source": [
    "# Contoh membuat DataFrame sederhana dan operasi dasar\n",
    "from pyspark.sql import SparkSession\n",
    "spark = SparkSession.builder.appName('HandsOnPertemuan6').getOrCreate()\n",
    "\n",
    "data = [('James', 'Sales', 3000),\n",
    "        ('Michael', 'Sales', 4600),\n",
    "        ('Robert', 'Sales', 4100),\n",
    "        ('Maria', 'Finance', 3000)]\n",
    "columns = ['EmployeeName', 'Department', 'Salary']\n",
    "\n",
    "df = spark.createDataFrame(data, schema=columns)\n",
    "df.show()"
   ]
  },
  {
   "cell_type": "markdown",
   "id": "fca66b73",
   "metadata": {},
   "source": [
    "### 2. Transformasi Dasar dengan DataFrames\n",
    "Pemrosesan data meliputi transformasi seperti filtering, selections, dan aggregations. Spark menyediakan cara efisien untuk melaksanakan operasi ini.\n",
    "\n",
    "- **Tugas 2**: Gunakan operasi filter, select, groupBy untuk mengekstrak informasi dari data, serta lakukan agregasi data untuk mendapatkan insight tentang dataset menggunakan perintah seperti mean, max, sum."
   ]
  },
  {
   "cell_type": "code",
   "execution_count": 6,
   "id": "58232678",
   "metadata": {},
   "outputs": [
    {
     "name": "stdout",
     "output_type": "stream",
     "text": [
      "+------------+------+\n",
      "|EmployeeName|Salary|\n",
      "+------------+------+\n",
      "|       James|  3000|\n",
      "|     Michael|  4600|\n",
      "|      Robert|  4100|\n",
      "|       Maria|  3000|\n",
      "+------------+------+\n",
      "\n",
      "+------------+----------+------+\n",
      "|EmployeeName|Department|Salary|\n",
      "+------------+----------+------+\n",
      "|     Michael|     Sales|  4600|\n",
      "|      Robert|     Sales|  4100|\n",
      "+------------+----------+------+\n",
      "\n",
      "+----------+-----------+\n",
      "|Department|avg(Salary)|\n",
      "+----------+-----------+\n",
      "|     Sales|     3900.0|\n",
      "|   Finance|     3000.0|\n",
      "+----------+-----------+\n",
      "\n"
     ]
    }
   ],
   "source": [
    "# Contoh operasi transformasi DataFrame\n",
    "df.select('EmployeeName', 'Salary').show()\n",
    "df.filter(df['Salary'] > 3000).show()\n",
    "df.groupBy('Department').avg('Salary').show()"
   ]
  },
  {
   "cell_type": "markdown",
   "id": "89763d36",
   "metadata": {},
   "source": [
    "### 3. Bekerja dengan Tipe Data Kompleks\n",
    "Spark mendukung tipe data yang kompleks seperti maps, arrays, dan structs yang memungkinkan operasi yang lebih kompleks pada dataset yang kompleks.\n",
    "\n",
    "- **Tugas 3**: Eksplorasi bagaimana mengolah tipe data kompleks dalam Spark DataFrames."
   ]
  },
  {
   "cell_type": "code",
   "execution_count": 10,
   "id": "14701d79",
   "metadata": {},
   "outputs": [
    {
     "name": "stdout",
     "output_type": "stream",
     "text": [
      "+------------+----------+------+-----------+-----------------+\n",
      "|EmployeeName|Department|Salary|SalaryBonus|TotalCompensation|\n",
      "+------------+----------+------+-----------+-----------------+\n",
      "|       James|     Sales|  3000|      300.0|           3300.0|\n",
      "|     Michael|     Sales|  4600|      460.0|           5060.0|\n",
      "|      Robert|     Sales|  4100|      410.0|           4510.0|\n",
      "|       Maria|   Finance|  3000|      300.0|           3300.0|\n",
      "+------------+----------+------+-----------+-----------------+\n",
      "\n"
     ]
    }
   ],
   "source": [
    "# Contoh manipulasi tipe data kompleks\n",
    "df = df.withColumn('SalaryBonus', df['Salary'] * 0.1)\n",
    "df = df.withColumn('TotalCompensation', df['Salary'] + df['SalaryBonus'])\n",
    "df.show()"
   ]
  },
  {
   "cell_type": "markdown",
   "id": "5b3b58dd",
   "metadata": {},
   "source": [
    "### 4. Operasi Data Lanjutan\n",
    "Menggunakan Spark untuk operasi lanjutan seperti window functions, user-defined functions (UDFs), dan mengoptimalkan query.\n",
    "\n",
    "- **Tugas 4**: Implementasikan window function untuk menghitung running totals atau rangkings."
   ]
  },
  {
   "cell_type": "code",
   "execution_count": 8,
   "id": "035312eb",
   "metadata": {},
   "outputs": [
    {
     "name": "stdout",
     "output_type": "stream",
     "text": [
      "+------------+----------+------+----+\n",
      "|EmployeeName|Department|Salary|Rank|\n",
      "+------------+----------+------+----+\n",
      "|       Maria|   Finance|  3000|   1|\n",
      "|       James|     Sales|  3000|   1|\n",
      "|      Robert|     Sales|  4100|   2|\n",
      "|     Michael|     Sales|  4600|   3|\n",
      "+------------+----------+------+----+\n",
      "\n"
     ]
    }
   ],
   "source": [
    "# Contoh menggunakan window functions\n",
    "from pyspark.sql.window import Window\n",
    "from pyspark.sql import functions as F\n",
    "\n",
    "windowSpec = Window.partitionBy('Department').orderBy('Salary')\n",
    "df.withColumn('Rank', F.rank().over(windowSpec)).show()"
   ]
  },
  {
   "cell_type": "markdown",
   "id": "f8a097ec",
   "metadata": {},
   "source": [
    "### 5. Kesimpulan dan Eksplorasi Lebih Lanjut\n",
    "Review apa yang telah dipelajari tentang pemrosesan data menggunakan Spark dan eksplorasi teknik lebih lanjut untuk mengoptimalkan pemrosesan data Anda.\n",
    "- **Tugas 5**: Buat ringkasan dari semua operasi yang telah dilakukan dan bagaimana teknik ini dapat diterapkan pada proyek data Anda."
   ]
  }
 ],
 "metadata": {
  "kernelspec": {
   "display_name": "Python 3",
   "language": "python",
   "name": "python3"
  },
  "language_info": {
   "codemirror_mode": {
    "name": "ipython",
    "version": 3
   },
   "file_extension": ".py",
   "mimetype": "text/x-python",
   "name": "python",
   "nbconvert_exporter": "python",
   "pygments_lexer": "ipython3",
   "version": "3.11.6"
  }
 },
 "nbformat": 4,
 "nbformat_minor": 5
}
